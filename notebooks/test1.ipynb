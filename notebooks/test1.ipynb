{
 "cells": [
  {
   "cell_type": "markdown",
   "metadata": {},
   "source": [
    "<h3 align=\"center\">a software for Scientists, Engineers, and Technicians who produces or communicates innovative\n",
    "        ideas and thoughts\n",
    "        through written mathematical statements and analysis of its results through python3 like popular data science\n",
    "        language\n",
    "        using jupyter like most used notebook environments!!\n",
    "</h3>"
   ]
  },
  {
   "cell_type": "markdown",
   "metadata": {},
   "source": [
    "<h2><a href=\"get_started/step01.html\">step 01</a>: install nodejs on your machine </h2>\n",
    "<h2><a href=\"\">step 02</a>: install git on your machine </h2>\n",
    "<h2><a href=\"\">step 03</a>: install python3 (or anaconda3) on your machine </h2>\n",
    "<h2><a href=\"\">step 04</a>: install Xbooks on your machine globally</h2>\n",
    "<code><h2 style=\"background-color: black; color: white\">$$ npm i -g @xsoft/xbooks</h2></code>"
   ]
  },
  {
   "cell_type": "markdown",
   "metadata": {},
   "source": [
    "<h2><a href=\"\">step 05</a>: create your blog directory on your machine</h2>\n",
    "<code><h2 style=\"background-color: black; color: white\">$$ mkdir [your blog name] && cd [your blog name]</h2></code>"
   ]
  },
  {
   "cell_type": "markdown",
   "metadata": {},
   "source": [
    "<h2><a href=\"\">step 06</a>: create a repo on <a href=\"https://www.GitHub.com\">GitHub.com</a></h2>\n",
    "<h2><a href=\"\">step 07</a>: initialize Xbooks in your blog directory</h2>\n",
    "<h2 style=\"background-color: black; color: white\">$$ Xbooks init</h2>"
   ]
  },
  {
   "cell_type": "markdown",
   "metadata": {},
   "source": [
    "<h2><a href=\"\">step 08</a>: install Xbooks dependancies in your blog directory</h2>\n",
    "<h2 style=\"background-color: black; color: white\">$$ Xbooks i</h2>"
   ]
  },
  {
   "cell_type": "markdown",
   "metadata": {},
   "source": [
    "<h2><a href=\"\">step 09</a>: override defaults of Xbooks\n",
    "                            dependancies</h2>\n",
    "                        <h2 style=\"background-color: black; color: white\">$$ Xbooks p</h2>"
   ]
  },
  {
   "cell_type": "markdown",
   "metadata": {},
   "source": [
    "<h2><a href=\"\">step 10</a>: publish your blog first time</h2>\n",
    "                        <h2 style=\"background-color: black; color: white\">$$ Xbooks pub -i</h2>"
   ]
  },
  {
   "cell_type": "markdown",
   "metadata": {},
   "source": [
    "<h2><a href=\"\">step 11</a>: activate gh-pages on <a href=\"https://www.GitHub.com\">GitHub.com</a> for docs/ on master </h2>\n",
    "<h2><a href=\"\">step 12</a>: hurray! your blog is published on https://[username].github.io/[myblog]</h2>\n",
    "<h2><a href=\"\">step 13</a>: CI your repo on any CI platforms</h2>\n",
    "<h2><a href=\"\">step 14</a>: add REPO and PAT to env vars</h2>"
   ]
  },
  {
   "cell_type": "markdown",
   "metadata": {},
   "source": [
    "<h2><a href=\"\">step 15</a>: write new jupyter notebooks in notebooks/</h2>\n",
    "<h2 style=\"background-color: black; color: white;\">$$ mkdir notebooks && cd notebooks && jupyter notebook</h2>"
   ]
  },
  {
   "cell_type": "markdown",
   "metadata": {},
   "source": [
    "<h2><a href=\"\">step 16</a>: publish your newly written notebooks</h2>\n",
    "<h2 style=\"background-color: black; color: white;\">$$ Xbooks pub</h2>"
   ]
  },
  {
   "cell_type": "markdown",
   "metadata": {},
   "source": [
    "<h3 style=\"font-family: monospace; color: darkslategray\">Kudos! you successfully have got your\n",
    "                            working workflow of Xbooks for your mathematical blogging!, now you just\n",
    "                            need to sprinkle new thoughts in jupyter notebooks, put them in your blog directory, push it\n",
    "                            to GitHub repo and let the world feel their surrounding!</h3>"
   ]
  }
 ],
 "metadata": {
  "kernelspec": {
   "display_name": "Python 3",
   "language": "python",
   "name": "python3"
  },
  "language_info": {
   "codemirror_mode": {
    "name": "ipython",
    "version": 3
   },
   "file_extension": ".py",
   "mimetype": "text/x-python",
   "name": "python",
   "nbconvert_exporter": "python",
   "pygments_lexer": "ipython3",
   "version": "3.7.0"
  }
 },
 "nbformat": 4,
 "nbformat_minor": 2
}
